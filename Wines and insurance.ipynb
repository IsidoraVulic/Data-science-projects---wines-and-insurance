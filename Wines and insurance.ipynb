{
 "cells": [
  {
   "cell_type": "markdown",
   "id": "e539f733",
   "metadata": {},
   "source": [
    "# Wines"
   ]
  },
  {
   "cell_type": "code",
   "execution_count": 52,
   "id": "03a369fe",
   "metadata": {},
   "outputs": [],
   "source": [
    "import warnings\n",
    "warnings.filterwarnings(\"ignore\")\n",
    "\n",
    "import pandas as pd\n",
    "import numpy as np"
   ]
  },
  {
   "cell_type": "code",
   "execution_count": 53,
   "id": "0f794534",
   "metadata": {},
   "outputs": [],
   "source": [
    "df = pd.read_csv(\"wine_quality.csv\")"
   ]
  },
  {
   "cell_type": "code",
   "execution_count": 54,
   "id": "61e8cb37",
   "metadata": {},
   "outputs": [
    {
     "data": {
      "text/html": [
       "<div>\n",
       "<style scoped>\n",
       "    .dataframe tbody tr th:only-of-type {\n",
       "        vertical-align: middle;\n",
       "    }\n",
       "\n",
       "    .dataframe tbody tr th {\n",
       "        vertical-align: top;\n",
       "    }\n",
       "\n",
       "    .dataframe thead th {\n",
       "        text-align: right;\n",
       "    }\n",
       "</style>\n",
       "<table border=\"1\" class=\"dataframe\">\n",
       "  <thead>\n",
       "    <tr style=\"text-align: right;\">\n",
       "      <th></th>\n",
       "      <th>fixed acidity</th>\n",
       "      <th>volatile acidity</th>\n",
       "      <th>citric acid</th>\n",
       "      <th>residual sugar</th>\n",
       "      <th>chlorides</th>\n",
       "      <th>free sulfur dioxide</th>\n",
       "      <th>total sulfur dioxide</th>\n",
       "      <th>density</th>\n",
       "      <th>pH</th>\n",
       "      <th>sulphates</th>\n",
       "      <th>alcohol</th>\n",
       "      <th>top_quality</th>\n",
       "    </tr>\n",
       "  </thead>\n",
       "  <tbody>\n",
       "    <tr>\n",
       "      <th>0</th>\n",
       "      <td>7.0</td>\n",
       "      <td>0.27</td>\n",
       "      <td>0.36</td>\n",
       "      <td>20.7</td>\n",
       "      <td>0.045</td>\n",
       "      <td>45.0</td>\n",
       "      <td>170.0</td>\n",
       "      <td>1.0010</td>\n",
       "      <td>3.00</td>\n",
       "      <td>0.45</td>\n",
       "      <td>8.8</td>\n",
       "      <td>0</td>\n",
       "    </tr>\n",
       "    <tr>\n",
       "      <th>1</th>\n",
       "      <td>6.3</td>\n",
       "      <td>0.30</td>\n",
       "      <td>0.34</td>\n",
       "      <td>1.6</td>\n",
       "      <td>0.049</td>\n",
       "      <td>14.0</td>\n",
       "      <td>132.0</td>\n",
       "      <td>0.9940</td>\n",
       "      <td>3.30</td>\n",
       "      <td>0.49</td>\n",
       "      <td>9.5</td>\n",
       "      <td>0</td>\n",
       "    </tr>\n",
       "    <tr>\n",
       "      <th>2</th>\n",
       "      <td>8.1</td>\n",
       "      <td>0.28</td>\n",
       "      <td>0.40</td>\n",
       "      <td>6.9</td>\n",
       "      <td>0.050</td>\n",
       "      <td>30.0</td>\n",
       "      <td>97.0</td>\n",
       "      <td>0.9951</td>\n",
       "      <td>3.26</td>\n",
       "      <td>0.44</td>\n",
       "      <td>10.1</td>\n",
       "      <td>0</td>\n",
       "    </tr>\n",
       "    <tr>\n",
       "      <th>3</th>\n",
       "      <td>7.2</td>\n",
       "      <td>0.23</td>\n",
       "      <td>0.32</td>\n",
       "      <td>8.5</td>\n",
       "      <td>0.058</td>\n",
       "      <td>47.0</td>\n",
       "      <td>186.0</td>\n",
       "      <td>0.9956</td>\n",
       "      <td>3.19</td>\n",
       "      <td>0.40</td>\n",
       "      <td>9.9</td>\n",
       "      <td>0</td>\n",
       "    </tr>\n",
       "    <tr>\n",
       "      <th>4</th>\n",
       "      <td>7.2</td>\n",
       "      <td>0.23</td>\n",
       "      <td>0.32</td>\n",
       "      <td>8.5</td>\n",
       "      <td>0.058</td>\n",
       "      <td>47.0</td>\n",
       "      <td>186.0</td>\n",
       "      <td>0.9956</td>\n",
       "      <td>3.19</td>\n",
       "      <td>0.40</td>\n",
       "      <td>9.9</td>\n",
       "      <td>0</td>\n",
       "    </tr>\n",
       "  </tbody>\n",
       "</table>\n",
       "</div>"
      ],
      "text/plain": [
       "   fixed acidity  volatile acidity  citric acid  residual sugar  chlorides  \\\n",
       "0            7.0              0.27         0.36            20.7      0.045   \n",
       "1            6.3              0.30         0.34             1.6      0.049   \n",
       "2            8.1              0.28         0.40             6.9      0.050   \n",
       "3            7.2              0.23         0.32             8.5      0.058   \n",
       "4            7.2              0.23         0.32             8.5      0.058   \n",
       "\n",
       "   free sulfur dioxide  total sulfur dioxide  density    pH  sulphates  \\\n",
       "0                 45.0                 170.0   1.0010  3.00       0.45   \n",
       "1                 14.0                 132.0   0.9940  3.30       0.49   \n",
       "2                 30.0                  97.0   0.9951  3.26       0.44   \n",
       "3                 47.0                 186.0   0.9956  3.19       0.40   \n",
       "4                 47.0                 186.0   0.9956  3.19       0.40   \n",
       "\n",
       "   alcohol  top_quality  \n",
       "0      8.8            0  \n",
       "1      9.5            0  \n",
       "2     10.1            0  \n",
       "3      9.9            0  \n",
       "4      9.9            0  "
      ]
     },
     "execution_count": 54,
     "metadata": {},
     "output_type": "execute_result"
    }
   ],
   "source": [
    "df.head()"
   ]
  },
  {
   "cell_type": "code",
   "execution_count": 55,
   "id": "c07dd8f4",
   "metadata": {},
   "outputs": [
    {
     "name": "stdout",
     "output_type": "stream",
     "text": [
      "<class 'pandas.core.frame.DataFrame'>\n",
      "RangeIndex: 4898 entries, 0 to 4897\n",
      "Data columns (total 12 columns):\n",
      " #   Column                Non-Null Count  Dtype  \n",
      "---  ------                --------------  -----  \n",
      " 0   fixed acidity         4898 non-null   float64\n",
      " 1   volatile acidity      4898 non-null   float64\n",
      " 2   citric acid           4898 non-null   float64\n",
      " 3   residual sugar        4898 non-null   float64\n",
      " 4   chlorides             4898 non-null   float64\n",
      " 5   free sulfur dioxide   4898 non-null   float64\n",
      " 6   total sulfur dioxide  4898 non-null   float64\n",
      " 7   density               4898 non-null   float64\n",
      " 8   pH                    4898 non-null   float64\n",
      " 9   sulphates             4898 non-null   float64\n",
      " 10  alcohol               4898 non-null   float64\n",
      " 11  top_quality           4898 non-null   int64  \n",
      "dtypes: float64(11), int64(1)\n",
      "memory usage: 459.3 KB\n"
     ]
    }
   ],
   "source": [
    "df.info()"
   ]
  },
  {
   "cell_type": "code",
   "execution_count": 56,
   "id": "fd361a06",
   "metadata": {},
   "outputs": [
    {
     "data": {
      "text/plain": [
       "fixed acidity           0\n",
       "volatile acidity        0\n",
       "citric acid             0\n",
       "residual sugar          0\n",
       "chlorides               0\n",
       "free sulfur dioxide     0\n",
       "total sulfur dioxide    0\n",
       "density                 0\n",
       "pH                      0\n",
       "sulphates               0\n",
       "alcohol                 0\n",
       "top_quality             0\n",
       "dtype: int64"
      ]
     },
     "execution_count": 56,
     "metadata": {},
     "output_type": "execute_result"
    }
   ],
   "source": [
    "df.isna().sum()"
   ]
  },
  {
   "cell_type": "code",
   "execution_count": 57,
   "id": "812671e4",
   "metadata": {},
   "outputs": [
    {
     "data": {
      "text/html": [
       "<div>\n",
       "<style scoped>\n",
       "    .dataframe tbody tr th:only-of-type {\n",
       "        vertical-align: middle;\n",
       "    }\n",
       "\n",
       "    .dataframe tbody tr th {\n",
       "        vertical-align: top;\n",
       "    }\n",
       "\n",
       "    .dataframe thead th {\n",
       "        text-align: right;\n",
       "    }\n",
       "</style>\n",
       "<table border=\"1\" class=\"dataframe\">\n",
       "  <thead>\n",
       "    <tr style=\"text-align: right;\">\n",
       "      <th></th>\n",
       "      <th>fixed acidity</th>\n",
       "      <th>volatile acidity</th>\n",
       "      <th>citric acid</th>\n",
       "      <th>residual sugar</th>\n",
       "      <th>chlorides</th>\n",
       "      <th>free sulfur dioxide</th>\n",
       "      <th>total sulfur dioxide</th>\n",
       "      <th>density</th>\n",
       "      <th>pH</th>\n",
       "      <th>sulphates</th>\n",
       "      <th>alcohol</th>\n",
       "      <th>top_quality</th>\n",
       "    </tr>\n",
       "  </thead>\n",
       "  <tbody>\n",
       "    <tr>\n",
       "      <th>count</th>\n",
       "      <td>4898.000000</td>\n",
       "      <td>4898.000000</td>\n",
       "      <td>4898.000000</td>\n",
       "      <td>4898.000000</td>\n",
       "      <td>4898.000000</td>\n",
       "      <td>4898.000000</td>\n",
       "      <td>4898.000000</td>\n",
       "      <td>4898.000000</td>\n",
       "      <td>4898.000000</td>\n",
       "      <td>4898.000000</td>\n",
       "      <td>4898.000000</td>\n",
       "      <td>4898.000000</td>\n",
       "    </tr>\n",
       "    <tr>\n",
       "      <th>mean</th>\n",
       "      <td>6.854788</td>\n",
       "      <td>0.278241</td>\n",
       "      <td>0.334192</td>\n",
       "      <td>6.391415</td>\n",
       "      <td>0.045772</td>\n",
       "      <td>35.308085</td>\n",
       "      <td>138.360657</td>\n",
       "      <td>0.994027</td>\n",
       "      <td>3.188267</td>\n",
       "      <td>0.489847</td>\n",
       "      <td>10.514267</td>\n",
       "      <td>0.216415</td>\n",
       "    </tr>\n",
       "    <tr>\n",
       "      <th>std</th>\n",
       "      <td>0.843868</td>\n",
       "      <td>0.100795</td>\n",
       "      <td>0.121020</td>\n",
       "      <td>5.072058</td>\n",
       "      <td>0.021848</td>\n",
       "      <td>17.007137</td>\n",
       "      <td>42.498065</td>\n",
       "      <td>0.002991</td>\n",
       "      <td>0.151001</td>\n",
       "      <td>0.114126</td>\n",
       "      <td>1.230621</td>\n",
       "      <td>0.411842</td>\n",
       "    </tr>\n",
       "    <tr>\n",
       "      <th>min</th>\n",
       "      <td>3.800000</td>\n",
       "      <td>0.080000</td>\n",
       "      <td>0.000000</td>\n",
       "      <td>0.600000</td>\n",
       "      <td>0.009000</td>\n",
       "      <td>2.000000</td>\n",
       "      <td>9.000000</td>\n",
       "      <td>0.987110</td>\n",
       "      <td>2.720000</td>\n",
       "      <td>0.220000</td>\n",
       "      <td>8.000000</td>\n",
       "      <td>0.000000</td>\n",
       "    </tr>\n",
       "    <tr>\n",
       "      <th>25%</th>\n",
       "      <td>6.300000</td>\n",
       "      <td>0.210000</td>\n",
       "      <td>0.270000</td>\n",
       "      <td>1.700000</td>\n",
       "      <td>0.036000</td>\n",
       "      <td>23.000000</td>\n",
       "      <td>108.000000</td>\n",
       "      <td>0.991723</td>\n",
       "      <td>3.090000</td>\n",
       "      <td>0.410000</td>\n",
       "      <td>9.500000</td>\n",
       "      <td>0.000000</td>\n",
       "    </tr>\n",
       "    <tr>\n",
       "      <th>50%</th>\n",
       "      <td>6.800000</td>\n",
       "      <td>0.260000</td>\n",
       "      <td>0.320000</td>\n",
       "      <td>5.200000</td>\n",
       "      <td>0.043000</td>\n",
       "      <td>34.000000</td>\n",
       "      <td>134.000000</td>\n",
       "      <td>0.993740</td>\n",
       "      <td>3.180000</td>\n",
       "      <td>0.470000</td>\n",
       "      <td>10.400000</td>\n",
       "      <td>0.000000</td>\n",
       "    </tr>\n",
       "    <tr>\n",
       "      <th>75%</th>\n",
       "      <td>7.300000</td>\n",
       "      <td>0.320000</td>\n",
       "      <td>0.390000</td>\n",
       "      <td>9.900000</td>\n",
       "      <td>0.050000</td>\n",
       "      <td>46.000000</td>\n",
       "      <td>167.000000</td>\n",
       "      <td>0.996100</td>\n",
       "      <td>3.280000</td>\n",
       "      <td>0.550000</td>\n",
       "      <td>11.400000</td>\n",
       "      <td>0.000000</td>\n",
       "    </tr>\n",
       "    <tr>\n",
       "      <th>max</th>\n",
       "      <td>14.200000</td>\n",
       "      <td>1.100000</td>\n",
       "      <td>1.660000</td>\n",
       "      <td>65.800000</td>\n",
       "      <td>0.346000</td>\n",
       "      <td>289.000000</td>\n",
       "      <td>440.000000</td>\n",
       "      <td>1.038980</td>\n",
       "      <td>3.820000</td>\n",
       "      <td>1.080000</td>\n",
       "      <td>14.200000</td>\n",
       "      <td>1.000000</td>\n",
       "    </tr>\n",
       "  </tbody>\n",
       "</table>\n",
       "</div>"
      ],
      "text/plain": [
       "       fixed acidity  volatile acidity  citric acid  residual sugar  \\\n",
       "count    4898.000000       4898.000000  4898.000000     4898.000000   \n",
       "mean        6.854788          0.278241     0.334192        6.391415   \n",
       "std         0.843868          0.100795     0.121020        5.072058   \n",
       "min         3.800000          0.080000     0.000000        0.600000   \n",
       "25%         6.300000          0.210000     0.270000        1.700000   \n",
       "50%         6.800000          0.260000     0.320000        5.200000   \n",
       "75%         7.300000          0.320000     0.390000        9.900000   \n",
       "max        14.200000          1.100000     1.660000       65.800000   \n",
       "\n",
       "         chlorides  free sulfur dioxide  total sulfur dioxide      density  \\\n",
       "count  4898.000000          4898.000000           4898.000000  4898.000000   \n",
       "mean      0.045772            35.308085            138.360657     0.994027   \n",
       "std       0.021848            17.007137             42.498065     0.002991   \n",
       "min       0.009000             2.000000              9.000000     0.987110   \n",
       "25%       0.036000            23.000000            108.000000     0.991723   \n",
       "50%       0.043000            34.000000            134.000000     0.993740   \n",
       "75%       0.050000            46.000000            167.000000     0.996100   \n",
       "max       0.346000           289.000000            440.000000     1.038980   \n",
       "\n",
       "                pH    sulphates      alcohol  top_quality  \n",
       "count  4898.000000  4898.000000  4898.000000  4898.000000  \n",
       "mean      3.188267     0.489847    10.514267     0.216415  \n",
       "std       0.151001     0.114126     1.230621     0.411842  \n",
       "min       2.720000     0.220000     8.000000     0.000000  \n",
       "25%       3.090000     0.410000     9.500000     0.000000  \n",
       "50%       3.180000     0.470000    10.400000     0.000000  \n",
       "75%       3.280000     0.550000    11.400000     0.000000  \n",
       "max       3.820000     1.080000    14.200000     1.000000  "
      ]
     },
     "execution_count": 57,
     "metadata": {},
     "output_type": "execute_result"
    }
   ],
   "source": [
    "df.describe()"
   ]
  },
  {
   "cell_type": "code",
   "execution_count": 58,
   "id": "5bf642b7",
   "metadata": {},
   "outputs": [
    {
     "data": {
      "text/html": [
       "<div>\n",
       "<style scoped>\n",
       "    .dataframe tbody tr th:only-of-type {\n",
       "        vertical-align: middle;\n",
       "    }\n",
       "\n",
       "    .dataframe tbody tr th {\n",
       "        vertical-align: top;\n",
       "    }\n",
       "\n",
       "    .dataframe thead th {\n",
       "        text-align: right;\n",
       "    }\n",
       "</style>\n",
       "<table border=\"1\" class=\"dataframe\">\n",
       "  <thead>\n",
       "    <tr style=\"text-align: right;\">\n",
       "      <th></th>\n",
       "      <th>fixed acidity</th>\n",
       "      <th>volatile acidity</th>\n",
       "      <th>citric acid</th>\n",
       "      <th>residual sugar</th>\n",
       "      <th>chlorides</th>\n",
       "      <th>free sulfur dioxide</th>\n",
       "      <th>total sulfur dioxide</th>\n",
       "      <th>density</th>\n",
       "      <th>pH</th>\n",
       "      <th>sulphates</th>\n",
       "      <th>alcohol</th>\n",
       "      <th>top_quality</th>\n",
       "    </tr>\n",
       "  </thead>\n",
       "  <tbody>\n",
       "    <tr>\n",
       "      <th>0</th>\n",
       "      <td>0.307692</td>\n",
       "      <td>0.186275</td>\n",
       "      <td>0.216867</td>\n",
       "      <td>0.308282</td>\n",
       "      <td>0.106825</td>\n",
       "      <td>0.149826</td>\n",
       "      <td>0.373550</td>\n",
       "      <td>0.267785</td>\n",
       "      <td>0.254545</td>\n",
       "      <td>0.267442</td>\n",
       "      <td>0.129032</td>\n",
       "      <td>0.0</td>\n",
       "    </tr>\n",
       "    <tr>\n",
       "      <th>1</th>\n",
       "      <td>0.240385</td>\n",
       "      <td>0.215686</td>\n",
       "      <td>0.204819</td>\n",
       "      <td>0.015337</td>\n",
       "      <td>0.118694</td>\n",
       "      <td>0.041812</td>\n",
       "      <td>0.285383</td>\n",
       "      <td>0.132832</td>\n",
       "      <td>0.527273</td>\n",
       "      <td>0.313953</td>\n",
       "      <td>0.241935</td>\n",
       "      <td>0.0</td>\n",
       "    </tr>\n",
       "    <tr>\n",
       "      <th>2</th>\n",
       "      <td>0.413462</td>\n",
       "      <td>0.196078</td>\n",
       "      <td>0.240964</td>\n",
       "      <td>0.096626</td>\n",
       "      <td>0.121662</td>\n",
       "      <td>0.097561</td>\n",
       "      <td>0.204176</td>\n",
       "      <td>0.154039</td>\n",
       "      <td>0.490909</td>\n",
       "      <td>0.255814</td>\n",
       "      <td>0.338710</td>\n",
       "      <td>0.0</td>\n",
       "    </tr>\n",
       "    <tr>\n",
       "      <th>3</th>\n",
       "      <td>0.326923</td>\n",
       "      <td>0.147059</td>\n",
       "      <td>0.192771</td>\n",
       "      <td>0.121166</td>\n",
       "      <td>0.145401</td>\n",
       "      <td>0.156794</td>\n",
       "      <td>0.410673</td>\n",
       "      <td>0.163678</td>\n",
       "      <td>0.427273</td>\n",
       "      <td>0.209302</td>\n",
       "      <td>0.306452</td>\n",
       "      <td>0.0</td>\n",
       "    </tr>\n",
       "    <tr>\n",
       "      <th>4</th>\n",
       "      <td>0.326923</td>\n",
       "      <td>0.147059</td>\n",
       "      <td>0.192771</td>\n",
       "      <td>0.121166</td>\n",
       "      <td>0.145401</td>\n",
       "      <td>0.156794</td>\n",
       "      <td>0.410673</td>\n",
       "      <td>0.163678</td>\n",
       "      <td>0.427273</td>\n",
       "      <td>0.209302</td>\n",
       "      <td>0.306452</td>\n",
       "      <td>0.0</td>\n",
       "    </tr>\n",
       "    <tr>\n",
       "      <th>...</th>\n",
       "      <td>...</td>\n",
       "      <td>...</td>\n",
       "      <td>...</td>\n",
       "      <td>...</td>\n",
       "      <td>...</td>\n",
       "      <td>...</td>\n",
       "      <td>...</td>\n",
       "      <td>...</td>\n",
       "      <td>...</td>\n",
       "      <td>...</td>\n",
       "      <td>...</td>\n",
       "      <td>...</td>\n",
       "    </tr>\n",
       "    <tr>\n",
       "      <th>4893</th>\n",
       "      <td>0.230769</td>\n",
       "      <td>0.127451</td>\n",
       "      <td>0.174699</td>\n",
       "      <td>0.015337</td>\n",
       "      <td>0.089021</td>\n",
       "      <td>0.076655</td>\n",
       "      <td>0.192575</td>\n",
       "      <td>0.077694</td>\n",
       "      <td>0.500000</td>\n",
       "      <td>0.325581</td>\n",
       "      <td>0.516129</td>\n",
       "      <td>0.0</td>\n",
       "    </tr>\n",
       "    <tr>\n",
       "      <th>4894</th>\n",
       "      <td>0.269231</td>\n",
       "      <td>0.235294</td>\n",
       "      <td>0.216867</td>\n",
       "      <td>0.113497</td>\n",
       "      <td>0.112760</td>\n",
       "      <td>0.191638</td>\n",
       "      <td>0.368910</td>\n",
       "      <td>0.150183</td>\n",
       "      <td>0.390909</td>\n",
       "      <td>0.279070</td>\n",
       "      <td>0.258065</td>\n",
       "      <td>0.0</td>\n",
       "    </tr>\n",
       "    <tr>\n",
       "      <th>4895</th>\n",
       "      <td>0.259615</td>\n",
       "      <td>0.156863</td>\n",
       "      <td>0.114458</td>\n",
       "      <td>0.009202</td>\n",
       "      <td>0.094955</td>\n",
       "      <td>0.097561</td>\n",
       "      <td>0.236659</td>\n",
       "      <td>0.104685</td>\n",
       "      <td>0.245455</td>\n",
       "      <td>0.279070</td>\n",
       "      <td>0.225806</td>\n",
       "      <td>0.0</td>\n",
       "    </tr>\n",
       "    <tr>\n",
       "      <th>4896</th>\n",
       "      <td>0.163462</td>\n",
       "      <td>0.205882</td>\n",
       "      <td>0.180723</td>\n",
       "      <td>0.007669</td>\n",
       "      <td>0.038576</td>\n",
       "      <td>0.062718</td>\n",
       "      <td>0.234339</td>\n",
       "      <td>0.030461</td>\n",
       "      <td>0.563636</td>\n",
       "      <td>0.186047</td>\n",
       "      <td>0.774194</td>\n",
       "      <td>1.0</td>\n",
       "    </tr>\n",
       "    <tr>\n",
       "      <th>4897</th>\n",
       "      <td>0.211538</td>\n",
       "      <td>0.127451</td>\n",
       "      <td>0.228916</td>\n",
       "      <td>0.003067</td>\n",
       "      <td>0.032641</td>\n",
       "      <td>0.069686</td>\n",
       "      <td>0.206497</td>\n",
       "      <td>0.044342</td>\n",
       "      <td>0.490909</td>\n",
       "      <td>0.116279</td>\n",
       "      <td>0.612903</td>\n",
       "      <td>0.0</td>\n",
       "    </tr>\n",
       "  </tbody>\n",
       "</table>\n",
       "<p>4898 rows × 12 columns</p>\n",
       "</div>"
      ],
      "text/plain": [
       "      fixed acidity  volatile acidity  citric acid  residual sugar  chlorides  \\\n",
       "0          0.307692          0.186275     0.216867        0.308282   0.106825   \n",
       "1          0.240385          0.215686     0.204819        0.015337   0.118694   \n",
       "2          0.413462          0.196078     0.240964        0.096626   0.121662   \n",
       "3          0.326923          0.147059     0.192771        0.121166   0.145401   \n",
       "4          0.326923          0.147059     0.192771        0.121166   0.145401   \n",
       "...             ...               ...          ...             ...        ...   \n",
       "4893       0.230769          0.127451     0.174699        0.015337   0.089021   \n",
       "4894       0.269231          0.235294     0.216867        0.113497   0.112760   \n",
       "4895       0.259615          0.156863     0.114458        0.009202   0.094955   \n",
       "4896       0.163462          0.205882     0.180723        0.007669   0.038576   \n",
       "4897       0.211538          0.127451     0.228916        0.003067   0.032641   \n",
       "\n",
       "      free sulfur dioxide  total sulfur dioxide   density        pH  \\\n",
       "0                0.149826              0.373550  0.267785  0.254545   \n",
       "1                0.041812              0.285383  0.132832  0.527273   \n",
       "2                0.097561              0.204176  0.154039  0.490909   \n",
       "3                0.156794              0.410673  0.163678  0.427273   \n",
       "4                0.156794              0.410673  0.163678  0.427273   \n",
       "...                   ...                   ...       ...       ...   \n",
       "4893             0.076655              0.192575  0.077694  0.500000   \n",
       "4894             0.191638              0.368910  0.150183  0.390909   \n",
       "4895             0.097561              0.236659  0.104685  0.245455   \n",
       "4896             0.062718              0.234339  0.030461  0.563636   \n",
       "4897             0.069686              0.206497  0.044342  0.490909   \n",
       "\n",
       "      sulphates   alcohol  top_quality  \n",
       "0      0.267442  0.129032          0.0  \n",
       "1      0.313953  0.241935          0.0  \n",
       "2      0.255814  0.338710          0.0  \n",
       "3      0.209302  0.306452          0.0  \n",
       "4      0.209302  0.306452          0.0  \n",
       "...         ...       ...          ...  \n",
       "4893   0.325581  0.516129          0.0  \n",
       "4894   0.279070  0.258065          0.0  \n",
       "4895   0.279070  0.225806          0.0  \n",
       "4896   0.186047  0.774194          1.0  \n",
       "4897   0.116279  0.612903          0.0  \n",
       "\n",
       "[4898 rows x 12 columns]"
      ]
     },
     "execution_count": 58,
     "metadata": {},
     "output_type": "execute_result"
    }
   ],
   "source": [
    "from sklearn.preprocessing import MinMaxScaler\n",
    "df_norm = pd.DataFrame(MinMaxScaler().fit_transform(df), columns = df.columns)\n",
    "df_norm"
   ]
  },
  {
   "cell_type": "code",
   "execution_count": 59,
   "id": "8b2cafff",
   "metadata": {},
   "outputs": [],
   "source": [
    "X = df_norm.iloc[:, :-1]\n",
    "y = df_norm.iloc[:, -1]"
   ]
  },
  {
   "cell_type": "code",
   "execution_count": 60,
   "id": "59aeb386",
   "metadata": {},
   "outputs": [],
   "source": [
    "# Deljenje na train i test\n",
    "\n",
    "from sklearn.model_selection import train_test_split\n",
    "X_train, X_test, y_train, y_test = train_test_split(X, y, test_size=0.3, random_state=42)"
   ]
  },
  {
   "cell_type": "code",
   "execution_count": 61,
   "id": "bf25e92c",
   "metadata": {},
   "outputs": [],
   "source": [
    "# Importovanje modela\n",
    "\n",
    "from sklearn.metrics import precision_score, recall_score, f1_score,accuracy_score\n",
    "from sklearn.linear_model import LogisticRegression\n",
    "from sklearn.tree import DecisionTreeClassifier\n",
    "from sklearn.neighbors import KNeighborsClassifier"
   ]
  },
  {
   "cell_type": "code",
   "execution_count": 62,
   "id": "b55d40bb",
   "metadata": {},
   "outputs": [],
   "source": [
    "# Funkcija za performanse \n",
    "\n",
    "def print_performance(y, y_hat):\n",
    "    print(f'Accuracy: {accuracy_score(y, y_hat)}')\n",
    "    print(f'Precision: {precision_score(y, y_hat)}')\n",
    "    print(f'Recall: {recall_score(y, y_hat)}')\n",
    "    print(f'F1: {f1_score(y, y_hat)}')"
   ]
  },
  {
   "cell_type": "code",
   "execution_count": 63,
   "id": "03445810",
   "metadata": {},
   "outputs": [
    {
     "name": "stdout",
     "output_type": "stream",
     "text": [
      "Accuracy: 0.7931972789115647\n",
      "Precision: 0.6016260162601627\n",
      "Recall: 0.22492401215805471\n",
      "F1: 0.3274336283185841\n"
     ]
    }
   ],
   "source": [
    "model1 = LogisticRegression()\n",
    "model1.fit(X_train, y_train)\n",
    "y1_hat = model1.predict(X_test)\n",
    "print_performance(y_test, y1_hat)"
   ]
  },
  {
   "cell_type": "code",
   "execution_count": 64,
   "id": "b471ee12",
   "metadata": {},
   "outputs": [
    {
     "name": "stdout",
     "output_type": "stream",
     "text": [
      "Accuracy: 0.8238095238095238\n",
      "Precision: 0.6054216867469879\n",
      "Recall: 0.6109422492401215\n",
      "F1: 0.6081694402420575\n"
     ]
    }
   ],
   "source": [
    "model2 = DecisionTreeClassifier()\n",
    "model2.fit(X_train, y_train)\n",
    "y2_hat = model2.predict(X_test)\n",
    "print_performance(y_test, y2_hat)"
   ]
  },
  {
   "cell_type": "code",
   "execution_count": 65,
   "id": "5d7015bf",
   "metadata": {},
   "outputs": [
    {
     "name": "stdout",
     "output_type": "stream",
     "text": [
      "Accuracy: 0.8346938775510204\n",
      "Precision: 0.6535714285714286\n",
      "Recall: 0.5562310030395137\n",
      "F1: 0.6009852216748768\n"
     ]
    }
   ],
   "source": [
    "model3= KNeighborsClassifier()\n",
    "model3.fit(X_train, y_train)\n",
    "y3_hat = model3.predict(X_test)\n",
    "print_performance(y_test, y3_hat)"
   ]
  },
  {
   "cell_type": "markdown",
   "id": "3def1b79",
   "metadata": {},
   "source": [
    "## Cross validation"
   ]
  },
  {
   "cell_type": "code",
   "execution_count": 66,
   "id": "66aa164b",
   "metadata": {},
   "outputs": [],
   "source": [
    "# Cross validation\n",
    "\n",
    "from sklearn.model_selection import cross_validate\n",
    "from sklearn.model_selection import cross_val_score"
   ]
  },
  {
   "cell_type": "code",
   "execution_count": 67,
   "id": "0290c83f",
   "metadata": {},
   "outputs": [
    {
     "data": {
      "text/plain": [
       "'Tačnost iznosi 80.22% +/- 1.73%'"
      ]
     },
     "execution_count": 67,
     "metadata": {},
     "output_type": "execute_result"
    }
   ],
   "source": [
    "# Logistic regression\n",
    "\n",
    "model = LogisticRegression()\n",
    "res = cross_val_score(model, X, y, cv=10, scoring='accuracy')\n",
    "f'Tačnost iznosi {round(np.mean(res) * 100, 2)}% +/- {round(np.std(res)*100, 2)}%'"
   ]
  },
  {
   "cell_type": "code",
   "execution_count": 68,
   "id": "86c2d588",
   "metadata": {},
   "outputs": [],
   "source": [
    "def show_results(cv):\n",
    "    print(\"-------Trening---------\")\n",
    "    print(f\"Accuracy: {cv['train_accuracy'].mean()} +/- {cv['train_accuracy'].std()}\")\n",
    "    print(f\"Precision: {cv['train_precision'].mean()} +/- {cv['train_precision'].std()}\")    \n",
    "    print(f\"Recall: {cv['train_recall'].mean()} +/- {cv['train_recall'].std()}\")    \n",
    "    print(f\"F1: {cv['train_f1'].mean()} +/- {cv['train_f1'].std()}\")\n",
    "    print(\"-------Test---------\")\n",
    "    print(f\"Accuracy: {cv['test_accuracy'].mean()} +/- {cv['test_accuracy'].std()}\")\n",
    "    print(f\"Precision: {cv['test_precision'].mean()} +/- {cv['test_precision'].std()}\")    \n",
    "    print(f\"Recall: {cv['test_recall'].mean()} +/- {cv['test_recall'].std()}\")    \n",
    "    print(f\"F1: {cv['test_f1'].mean()} +/- {cv['test_f1'].std()}\")"
   ]
  },
  {
   "cell_type": "markdown",
   "id": "8d8ac74f",
   "metadata": {},
   "source": [
    "### Logistic regression"
   ]
  },
  {
   "cell_type": "code",
   "execution_count": 69,
   "id": "6ee9720d",
   "metadata": {
    "scrolled": true
   },
   "outputs": [
    {
     "name": "stdout",
     "output_type": "stream",
     "text": [
      "-------Trening---------\n",
      "Accuracy: 0.8050903756916948 +/- 0.0023898473234123005\n",
      "Precision: 0.6280032226079009 +/- 0.007979305553554061\n",
      "Recall: 0.24339622641509434 +/- 0.017892317227129445\n",
      "F1: 0.35050660347858253 +/- 0.0194145309247991\n",
      "-------Test---------\n",
      "Accuracy: 0.8021560035056968 +/- 0.017267895418851865\n",
      "Precision: 0.6617925471800673 +/- 0.11911232337787571\n",
      "Recall: 0.2405660377358491 +/- 0.12127320879417397\n",
      "F1: 0.3263123581908777 +/- 0.12275164311989165\n"
     ]
    }
   ],
   "source": [
    "results = []\n",
    "\n",
    "results = cross_validate(model, X, y, cv=10, scoring=['accuracy', 'precision', 'recall', 'f1'], return_train_score = True)\n",
    "\n",
    "show_results(results)"
   ]
  },
  {
   "cell_type": "markdown",
   "id": "ae197e87",
   "metadata": {},
   "source": [
    "### Decision tree"
   ]
  },
  {
   "cell_type": "code",
   "execution_count": 70,
   "id": "ae60059f",
   "metadata": {},
   "outputs": [
    {
     "data": {
      "text/plain": [
       "'Tačnost iznosi 74.21% +/- 2.93%'"
      ]
     },
     "execution_count": 70,
     "metadata": {},
     "output_type": "execute_result"
    }
   ],
   "source": [
    "# Decision tree\n",
    "\n",
    "model = DecisionTreeClassifier()\n",
    "res = cross_val_score(model, X, y, cv=10, scoring='accuracy')\n",
    "f'Tačnost iznosi {round(np.mean(res) * 100, 2)}% +/- {round(np.std(res)*100, 2)}%'"
   ]
  },
  {
   "cell_type": "code",
   "execution_count": 71,
   "id": "16129673",
   "metadata": {},
   "outputs": [
    {
     "name": "stdout",
     "output_type": "stream",
     "text": [
      "-------Trening---------\n",
      "Accuracy: 1.0 +/- 0.0\n",
      "Precision: 1.0 +/- 0.0\n",
      "Recall: 1.0 +/- 0.0\n",
      "F1: 1.0 +/- 0.0\n",
      "-------Test---------\n",
      "Accuracy: 0.7333496097825634 +/- 0.02626024953796403\n",
      "Precision: 0.39210648682281085 +/- 0.05232253455676944\n",
      "Recall: 0.4075471698113208 +/- 0.08887974123255757\n",
      "F1: 0.3950792483315229 +/- 0.054423319180410615\n"
     ]
    }
   ],
   "source": [
    "results = []\n",
    "\n",
    "results = cross_validate(model, X, y, cv=10, scoring=['accuracy', 'precision', 'recall', 'f1'], return_train_score = True)\n",
    "\n",
    "show_results(results)"
   ]
  },
  {
   "cell_type": "markdown",
   "id": "3514e166",
   "metadata": {},
   "source": [
    "### KNN"
   ]
  },
  {
   "cell_type": "code",
   "execution_count": 72,
   "id": "82a45896",
   "metadata": {},
   "outputs": [
    {
     "data": {
      "text/plain": [
       "'Tačnost iznosi 79.05% +/- 3.53%'"
      ]
     },
     "execution_count": 72,
     "metadata": {},
     "output_type": "execute_result"
    }
   ],
   "source": [
    "# KNN\n",
    "\n",
    "model = KNeighborsClassifier()\n",
    "res = cross_val_score(model, X, y, cv=10, scoring='accuracy')\n",
    "f'Tačnost iznosi {round(np.mean(res) * 100, 2)}% +/- {round(np.std(res)*100, 2)}%'"
   ]
  },
  {
   "cell_type": "code",
   "execution_count": 73,
   "id": "11aa82bd",
   "metadata": {},
   "outputs": [
    {
     "name": "stdout",
     "output_type": "stream",
     "text": [
      "-------Trening---------\n",
      "Accuracy: 0.8914294213000218 +/- 0.003967058302655575\n",
      "Precision: 0.786138671779203 +/- 0.012488693921557633\n",
      "Recall: 0.6846960167714885 +/- 0.008277604621551192\n",
      "F1: 0.7318927505046304 +/- 0.009232235397563142\n",
      "-------Test---------\n",
      "Accuracy: 0.7905170902716916 +/- 0.03534504446632697\n",
      "Precision: 0.5338897636922109 +/- 0.08070142414553141\n",
      "Recall: 0.4415094339622641 +/- 0.11024423515465315\n",
      "F1: 0.4727965797552368 +/- 0.0747122257946263\n"
     ]
    }
   ],
   "source": [
    "results = []\n",
    "\n",
    "results = cross_validate(model, X, y, cv=10, scoring=['accuracy', 'precision', 'recall', 'f1'], return_train_score = True)\n",
    "\n",
    "show_results(results)"
   ]
  },
  {
   "cell_type": "code",
   "execution_count": 74,
   "id": "fa157cce",
   "metadata": {},
   "outputs": [
    {
     "data": {
      "text/plain": [
       "0    3838\n",
       "1    1060\n",
       "Name: top_quality, dtype: int64"
      ]
     },
     "execution_count": 74,
     "metadata": {},
     "output_type": "execute_result"
    }
   ],
   "source": [
    "df['top_quality'].value_counts()"
   ]
  },
  {
   "cell_type": "markdown",
   "id": "224afabc",
   "metadata": {},
   "source": [
    "## Modifying the decision threshold"
   ]
  },
  {
   "cell_type": "code",
   "execution_count": 75,
   "id": "46c786c5",
   "metadata": {},
   "outputs": [],
   "source": [
    "from sklearn.metrics import confusion_matrix\n",
    "%matplotlib inline\n",
    "import matplotlib.pyplot as plt\n",
    "import seaborn as sns"
   ]
  },
  {
   "cell_type": "markdown",
   "id": "81f80b45",
   "metadata": {},
   "source": [
    "Considering false negative as the more expensive error"
   ]
  },
  {
   "cell_type": "markdown",
   "id": "11807c05",
   "metadata": {},
   "source": [
    "### LogisticRegression"
   ]
  },
  {
   "cell_type": "code",
   "execution_count": 76,
   "id": "57cc2745",
   "metadata": {},
   "outputs": [
    {
     "name": "stdout",
     "output_type": "stream",
     "text": [
      "----- FUNKCIJA PREDICT ------\n",
      "Accuracy: 0.7931972789115647\n",
      "Precision: 0.6016260162601627\n",
      "Recall: 0.22492401215805471\n",
      "F1: 0.3274336283185841\n",
      "\n",
      "MATRICA KONFUZIJE\n"
     ]
    },
    {
     "data": {
      "text/plain": [
       "array([[1092,   49],\n",
       "       [ 255,   74]], dtype=int64)"
      ]
     },
     "execution_count": 76,
     "metadata": {},
     "output_type": "execute_result"
    }
   ],
   "source": [
    "model = LogisticRegression()\n",
    "model.fit(X_train, y_train)\n",
    "\n",
    "y_hat = model.predict(X_test)\n",
    "\n",
    "print('----- FUNKCIJA PREDICT ------')\n",
    "print_performance(y_test, y_hat)\n",
    "\n",
    "print('''\n",
    "MATRICA KONFUZIJE''')\n",
    "confusion_matrix(y_test, y_hat)"
   ]
  },
  {
   "cell_type": "code",
   "execution_count": 77,
   "id": "f65d0b95",
   "metadata": {
    "scrolled": true
   },
   "outputs": [
    {
     "name": "stdout",
     "output_type": "stream",
     "text": [
      "----- POMERENA GRANICA ODLUCIVANJA ------\n",
      "Accuracy: 0.7353741496598639\n",
      "Precision: 0.4411764705882353\n",
      "Recall: 0.6838905775075987\n",
      "F1: 0.5363528009535161\n",
      "\n",
      "MATRICA KONFUZIJE\n"
     ]
    },
    {
     "data": {
      "text/plain": [
       "array([[856, 285],\n",
       "       [104, 225]], dtype=int64)"
      ]
     },
     "execution_count": 77,
     "metadata": {},
     "output_type": "execute_result"
    }
   ],
   "source": [
    "y_hat = model.predict_proba(X_test)[:, 1] >= 0.25\n",
    "\n",
    "print('----- POMERENA GRANICA ODLUCIVANJA ------')\n",
    "print_performance(y_test, y_hat)\n",
    "print('''\n",
    "MATRICA KONFUZIJE''')\n",
    "confusion_matrix(y_test, y_hat)"
   ]
  },
  {
   "cell_type": "markdown",
   "id": "7ed638ba",
   "metadata": {},
   "source": [
    "# Insurance"
   ]
  },
  {
   "cell_type": "code",
   "execution_count": 149,
   "id": "27744f72",
   "metadata": {},
   "outputs": [],
   "source": [
    "df_insurance = pd.read_csv('insurance.csv')"
   ]
  },
  {
   "cell_type": "code",
   "execution_count": 150,
   "id": "bf866c27",
   "metadata": {},
   "outputs": [
    {
     "data": {
      "text/html": [
       "<div>\n",
       "<style scoped>\n",
       "    .dataframe tbody tr th:only-of-type {\n",
       "        vertical-align: middle;\n",
       "    }\n",
       "\n",
       "    .dataframe tbody tr th {\n",
       "        vertical-align: top;\n",
       "    }\n",
       "\n",
       "    .dataframe thead th {\n",
       "        text-align: right;\n",
       "    }\n",
       "</style>\n",
       "<table border=\"1\" class=\"dataframe\">\n",
       "  <thead>\n",
       "    <tr style=\"text-align: right;\">\n",
       "      <th></th>\n",
       "      <th>age</th>\n",
       "      <th>sex</th>\n",
       "      <th>bmi</th>\n",
       "      <th>children</th>\n",
       "      <th>smoker</th>\n",
       "      <th>region</th>\n",
       "      <th>charges</th>\n",
       "    </tr>\n",
       "  </thead>\n",
       "  <tbody>\n",
       "    <tr>\n",
       "      <th>0</th>\n",
       "      <td>19</td>\n",
       "      <td>female</td>\n",
       "      <td>27.900</td>\n",
       "      <td>0</td>\n",
       "      <td>yes</td>\n",
       "      <td>southwest</td>\n",
       "      <td>16884.92400</td>\n",
       "    </tr>\n",
       "    <tr>\n",
       "      <th>1</th>\n",
       "      <td>18</td>\n",
       "      <td>male</td>\n",
       "      <td>33.770</td>\n",
       "      <td>1</td>\n",
       "      <td>no</td>\n",
       "      <td>southeast</td>\n",
       "      <td>1725.55230</td>\n",
       "    </tr>\n",
       "    <tr>\n",
       "      <th>2</th>\n",
       "      <td>28</td>\n",
       "      <td>male</td>\n",
       "      <td>33.000</td>\n",
       "      <td>3</td>\n",
       "      <td>no</td>\n",
       "      <td>southeast</td>\n",
       "      <td>4449.46200</td>\n",
       "    </tr>\n",
       "    <tr>\n",
       "      <th>3</th>\n",
       "      <td>33</td>\n",
       "      <td>male</td>\n",
       "      <td>22.705</td>\n",
       "      <td>0</td>\n",
       "      <td>no</td>\n",
       "      <td>northwest</td>\n",
       "      <td>21984.47061</td>\n",
       "    </tr>\n",
       "    <tr>\n",
       "      <th>4</th>\n",
       "      <td>32</td>\n",
       "      <td>male</td>\n",
       "      <td>28.880</td>\n",
       "      <td>0</td>\n",
       "      <td>no</td>\n",
       "      <td>northwest</td>\n",
       "      <td>3866.85520</td>\n",
       "    </tr>\n",
       "  </tbody>\n",
       "</table>\n",
       "</div>"
      ],
      "text/plain": [
       "   age     sex     bmi  children smoker     region      charges\n",
       "0   19  female  27.900         0    yes  southwest  16884.92400\n",
       "1   18    male  33.770         1     no  southeast   1725.55230\n",
       "2   28    male  33.000         3     no  southeast   4449.46200\n",
       "3   33    male  22.705         0     no  northwest  21984.47061\n",
       "4   32    male  28.880         0     no  northwest   3866.85520"
      ]
     },
     "execution_count": 150,
     "metadata": {},
     "output_type": "execute_result"
    }
   ],
   "source": [
    "df_insurance.head()"
   ]
  },
  {
   "cell_type": "code",
   "execution_count": 151,
   "id": "725d5724",
   "metadata": {},
   "outputs": [
    {
     "name": "stdout",
     "output_type": "stream",
     "text": [
      "<class 'pandas.core.frame.DataFrame'>\n",
      "RangeIndex: 1338 entries, 0 to 1337\n",
      "Data columns (total 7 columns):\n",
      " #   Column    Non-Null Count  Dtype  \n",
      "---  ------    --------------  -----  \n",
      " 0   age       1338 non-null   int64  \n",
      " 1   sex       1338 non-null   object \n",
      " 2   bmi       1338 non-null   float64\n",
      " 3   children  1338 non-null   int64  \n",
      " 4   smoker    1338 non-null   object \n",
      " 5   region    1338 non-null   object \n",
      " 6   charges   1338 non-null   float64\n",
      "dtypes: float64(2), int64(2), object(3)\n",
      "memory usage: 73.3+ KB\n"
     ]
    }
   ],
   "source": [
    "df_insurance.info()"
   ]
  },
  {
   "cell_type": "code",
   "execution_count": 152,
   "id": "fbf4468f",
   "metadata": {},
   "outputs": [],
   "source": [
    "X = df_insurance.iloc[:,:-1]\n",
    "y = df_insurance.iloc[:,-1]\n",
    "\n",
    "X_train, X_test, y_train, y_test = train_test_split(X, y, random_state=42)"
   ]
  },
  {
   "cell_type": "code",
   "execution_count": 153,
   "id": "a38d744b",
   "metadata": {},
   "outputs": [
    {
     "data": {
      "text/html": [
       "<div>\n",
       "<style scoped>\n",
       "    .dataframe tbody tr th:only-of-type {\n",
       "        vertical-align: middle;\n",
       "    }\n",
       "\n",
       "    .dataframe tbody tr th {\n",
       "        vertical-align: top;\n",
       "    }\n",
       "\n",
       "    .dataframe thead th {\n",
       "        text-align: right;\n",
       "    }\n",
       "</style>\n",
       "<table border=\"1\" class=\"dataframe\">\n",
       "  <thead>\n",
       "    <tr style=\"text-align: right;\">\n",
       "      <th></th>\n",
       "      <th>age</th>\n",
       "      <th>sex</th>\n",
       "      <th>bmi</th>\n",
       "      <th>children</th>\n",
       "      <th>smoker</th>\n",
       "      <th>region</th>\n",
       "    </tr>\n",
       "  </thead>\n",
       "  <tbody>\n",
       "    <tr>\n",
       "      <th>693</th>\n",
       "      <td>24</td>\n",
       "      <td>male</td>\n",
       "      <td>23.655</td>\n",
       "      <td>0</td>\n",
       "      <td>no</td>\n",
       "      <td>northwest</td>\n",
       "    </tr>\n",
       "    <tr>\n",
       "      <th>1297</th>\n",
       "      <td>28</td>\n",
       "      <td>female</td>\n",
       "      <td>26.510</td>\n",
       "      <td>2</td>\n",
       "      <td>no</td>\n",
       "      <td>southeast</td>\n",
       "    </tr>\n",
       "    <tr>\n",
       "      <th>634</th>\n",
       "      <td>51</td>\n",
       "      <td>male</td>\n",
       "      <td>39.700</td>\n",
       "      <td>1</td>\n",
       "      <td>no</td>\n",
       "      <td>southwest</td>\n",
       "    </tr>\n",
       "    <tr>\n",
       "      <th>1022</th>\n",
       "      <td>47</td>\n",
       "      <td>male</td>\n",
       "      <td>36.080</td>\n",
       "      <td>1</td>\n",
       "      <td>yes</td>\n",
       "      <td>southeast</td>\n",
       "    </tr>\n",
       "    <tr>\n",
       "      <th>178</th>\n",
       "      <td>46</td>\n",
       "      <td>female</td>\n",
       "      <td>28.900</td>\n",
       "      <td>2</td>\n",
       "      <td>no</td>\n",
       "      <td>southwest</td>\n",
       "    </tr>\n",
       "  </tbody>\n",
       "</table>\n",
       "</div>"
      ],
      "text/plain": [
       "      age     sex     bmi  children smoker     region\n",
       "693    24    male  23.655         0     no  northwest\n",
       "1297   28  female  26.510         2     no  southeast\n",
       "634    51    male  39.700         1     no  southwest\n",
       "1022   47    male  36.080         1    yes  southeast\n",
       "178    46  female  28.900         2     no  southwest"
      ]
     },
     "execution_count": 153,
     "metadata": {},
     "output_type": "execute_result"
    }
   ],
   "source": [
    "X_train.head()"
   ]
  },
  {
   "cell_type": "code",
   "execution_count": 154,
   "id": "5006d059",
   "metadata": {},
   "outputs": [],
   "source": [
    "categories = list(X_train.select_dtypes(include = 'object').columns)\n",
    "numerical = list(X_train.select_dtypes(exclude = 'object').columns)"
   ]
  },
  {
   "cell_type": "code",
   "execution_count": 155,
   "id": "86c5f4d8",
   "metadata": {},
   "outputs": [],
   "source": [
    "from sklearn.preprocessing import OneHotEncoder\n",
    "from sklearn.compose import ColumnTransformer\n",
    "from sklearn.pipeline import Pipeline\n",
    "\n",
    "numerical_preparation = SimpleImputer(strategy='median')\n",
    "categorical_preparation = Pipeline(steps=[\n",
    "                                    ('imputer',SimpleImputer(strategy='most_frequent')),\n",
    "                                    ('onehot',OneHotEncoder(handle_unknown='ignore'))\n",
    "                                    ]\n",
    "                                  )\n",
    "preprocessor = ColumnTransformer(transformers=[\n",
    "                                     ('num',numerical_preparation,numerical),\n",
    "                                     ('cat',categorical_preparation,categories)\n",
    "                                 ]\n",
    "                                )"
   ]
  },
  {
   "cell_type": "code",
   "execution_count": 156,
   "id": "51163407",
   "metadata": {},
   "outputs": [
    {
     "name": "stdout",
     "output_type": "stream",
     "text": [
      "Prosečna RMSE ocena: 6576.262521648187\n"
     ]
    }
   ],
   "source": [
    "from sklearn.tree import DecisionTreeRegressor, plot_tree\n",
    "\n",
    "pipeline = Pipeline(steps=[('preprocessor', preprocessor),\n",
    "                            ('regressor', DecisionTreeRegressor(random_state=42))])\n",
    "\n",
    "rmse_scores = cross_val_score(pipeline, X_train, y_train, scoring='neg_root_mean_squared_error', cv=10)\n",
    "average_rmse = -rmse_scores.mean()\n",
    "print(f'Prosečna RMSE ocena: {average_rmse}')"
   ]
  },
  {
   "cell_type": "code",
   "execution_count": 157,
   "id": "37a00d53",
   "metadata": {},
   "outputs": [],
   "source": [
    "model = pipeline.fit(X_train, y_train)\n",
    "y_hat = model.predict(X_test)"
   ]
  },
  {
   "cell_type": "code",
   "execution_count": 158,
   "id": "f4684abe",
   "metadata": {},
   "outputs": [
    {
     "data": {
      "image/png": "[encoded data removed]",
      "text/plain": [
       "<Figure size 640x480 with 1 Axes>"
      ]
     },
     "metadata": {},
     "output_type": "display_data"
    }
   ],
   "source": [
    "plt.scatter(y_test,y_hat)\n",
    "plt.show()"
   ]
  },
  {
   "cell_type": "code",
   "execution_count": 159,
   "id": "57a2274f",
   "metadata": {},
   "outputs": [],
   "source": [
    "from sklearn.metrics import make_scorer\n",
    "from sklearn.metrics import r2_score\n",
    "\n",
    "def error_stats(cv_dict):\n",
    "    stats = {}\n",
    "    for k,v in cv_dict.items(): \n",
    "        stats.update({k:(v.mean(), v.std())})\n",
    "    return(stats)\n",
    "\n",
    "def rmse_score(y_true, y_predict):\n",
    "    diff = y_true-y_predict\n",
    "    diff_squared = np.power(diff,2)\n",
    "    mse = diff_squared.mean()\n",
    "    rmse = np.sqrt(mse)\n",
    "    return(rmse)\n",
    "\n",
    "rmse = make_scorer(rmse_score, greater_is_better=False)"
   ]
  },
  {
   "cell_type": "code",
   "execution_count": 160,
   "id": "54d65e14",
   "metadata": {},
   "outputs": [
    {
     "data": {
      "text/plain": [
       "{'fit_time': (0.03242037296295166, 0.0022410278458461852),\n",
       " 'score_time': (0.013496017456054688, 0.00182694133660245),\n",
       " 'test_MAE': (-3183.7853036459405, 671.4689400901399),\n",
       " 'test_RMSE': (-6576.262521648187, 911.3950120800263),\n",
       " 'test_R2': (0.684258372869732, 0.11478872588764502)}"
      ]
     },
     "execution_count": 160,
     "metadata": {},
     "output_type": "execute_result"
    }
   ],
   "source": [
    "cv_dict = cross_validate(pipeline, X_train, y_train, cv = 10, scoring={'MAE':'neg_mean_absolute_error', 'RMSE':rmse, 'R2':'r2'})\n",
    "error_stats(cv_dict)"
   ]
  },
  {
   "cell_type": "markdown",
   "id": "75e51fdd",
   "metadata": {},
   "source": [
    "## Optimizing decision tree"
   ]
  },
  {
   "cell_type": "code",
   "execution_count": 161,
   "id": "4c9547cd",
   "metadata": {},
   "outputs": [
    {
     "name": "stdout",
     "output_type": "stream",
     "text": [
      "Najbolji parametri: {'regressor__max_depth': 5, 'regressor__min_samples_leaf': 15, 'regressor__min_samples_split': 15}\n",
      "Najbolja RMSE ocena: 4623.272166076255\n"
     ]
    }
   ],
   "source": [
    "from sklearn.model_selection import GridSearchCV\n",
    "import matplotlib.pyplot as plt\n",
    "\n",
    "param_grid = {\n",
    "    'regressor__min_samples_leaf': [5,10,15],\n",
    "    'regressor__max_depth': [None, 3,5,7],\n",
    "    'regressor__min_samples_split': [15,20,25]\n",
    "}\n",
    "\n",
    "grid_search = GridSearchCV(pipeline, param_grid, scoring='neg_root_mean_squared_error', cv=10)\n",
    "grid_search.fit(X_train, y_train)\n",
    "\n",
    "\n",
    "print(f'Najbolji parametri: {grid_search.best_params_}')\n",
    "print(f'Najbolja RMSE ocena: {-grid_search.best_score_}')"
   ]
  },
  {
   "cell_type": "code",
   "execution_count": 146,
   "id": "84b0e953",
   "metadata": {},
   "outputs": [
    {
     "data": {
      "image/png": "[encoded data removed]",
      "text/plain": [
       "<Figure size 640x480 with 1 Axes>"
      ]
     },
     "metadata": {},
     "output_type": "display_data"
    }
   ],
   "source": [
    "best_model = grid_search.best_estimator_\n",
    "\n",
    "y_pred = best_model.predict(X_test)\n",
    "\n",
    "plt.scatter(y_test, y_pred)\n",
    "plt.xlabel('Stvarne vrednosti')\n",
    "plt.ylabel('Predviđene vrednosti')\n",
    "plt.title('Scatter plot stvarnih i predviđenih vrednosti')\n",
    "plt.show()"
   ]
  }
 ],
 "metadata": {
  "kernelspec": {
   "display_name": "Python 3 (ipykernel)",
   "language": "python",
   "name": "python3"
  },
  "language_info": {
   "codemirror_mode": {
    "name": "ipython",
    "version": 3
   },
   "file_extension": ".py",
   "mimetype": "text/x-python",
   "name": "python",
   "nbconvert_exporter": "python",
   "pygments_lexer": "ipython3",
   "version": "3.10.11"
  }
 },
 "nbformat": 4,
 "nbformat_minor": 5
}
